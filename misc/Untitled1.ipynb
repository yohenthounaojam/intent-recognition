{
 "cells": [
  {
   "cell_type": "code",
   "execution_count": 19,
   "metadata": {},
   "outputs": [],
   "source": [
    "import numpy as np\n",
    "import os\n",
    "import torch\n",
    "import torchvision.models as models\n",
    "from torch.utils.data import TensorDataset, DataLoader\n",
    "\n",
    "from src.utils.consts import (HDD_VIDEO_PATH, HDD_ALL_FRAMES_ALL_VIDS_PATH,\n",
    "                         HDD_TRAIN_SIDS, HDD_TEST_SIDS, MAP_LBL_TO_CLS_LYR_0)\n",
    "from src.utils.data_prep_util import extract_frames, get_saved_index_pkl, get_sequence_wise_fvecs_and_labels\n",
    "from src.utils.cnn_lstm_utils import get_cnn_codes_for_frames_tt\n",
    "from src.utils.exp_util import plot_conf_mat_heat_map\n",
    "model = models.resnet18(pretrained=True)\n",
    "import subprocess"
   ]
  },
  {
   "cell_type": "code",
   "execution_count": 8,
   "metadata": {},
   "outputs": [],
   "source": [
    "for session_id in HDD_TRAIN_SIDS:\n",
    "    frames_fvecs_lst = []\n",
    "    files = os.listdir(HDD_VIDEO_PATH.format(session_id))\n",
    "    all_frames = extract_frames(HDD_VIDEO_PATH.format(session_id)+\"/\"+files[0])\n",
    "    num_frames = all_frames.shape[0]\n",
    "    for start in range(0, num_frames, 40):\n",
    "        end = min(start+40, num_frames)\n",
    "        frames_vecs = get_cnn_codes_for_frames_tt(model, all_frames[start:end])\n",
    "        frames_fvecs_lst.append(frames_vecs)"
   ]
  },
  {
   "cell_type": "code",
   "execution_count": 9,
   "metadata": {},
   "outputs": [
    {
     "data": {
      "text/plain": [
       "torch.Size([3, 512, 1, 1])"
      ]
     },
     "execution_count": 9,
     "metadata": {},
     "output_type": "execute_result"
    }
   ],
   "source": [
    "frames_vecs.shape"
   ]
  },
  {
   "cell_type": "code",
   "execution_count": 10,
   "metadata": {},
   "outputs": [
    {
     "data": {
      "text/plain": [
       "34"
      ]
     },
     "execution_count": 10,
     "metadata": {},
     "output_type": "execute_result"
    }
   ],
   "source": [
    "len(frames_fvecs_lst)"
   ]
  },
  {
   "cell_type": "code",
   "execution_count": 17,
   "metadata": {},
   "outputs": [
    {
     "data": {
      "text/plain": [
       "torch.Size([40, 512, 1, 1])"
      ]
     },
     "execution_count": 17,
     "metadata": {},
     "output_type": "execute_result"
    }
   ],
   "source": [
    "frames_fvecs_lst[0].shape"
   ]
  },
  {
   "cell_type": "code",
   "execution_count": 32,
   "metadata": {
    "scrolled": true
   },
   "outputs": [
    {
     "name": "stdout",
     "output_type": "stream",
     "text": [
      "512\n",
      "512\n",
      "512\n"
     ]
    }
   ],
   "source": [
    "frames_lst = []\n",
    "for i in range(3):\n",
    "    print(frames_vecs[i].shape[0])\n",
    "    frames_lst.append(frames_vecs[i].view(512).numpy())\n",
    "    \n",
    "frames_fvecs_lst[0][0].shape\n",
    "len(frames_lst)\n",
    "\n",
    "\n",
    "def get_length(filename):\n",
    "    def get_sec(time_str):\n",
    "        h, m, s = time_str.split(b':')\n",
    "        return int(h) * 3600 + int(m) * 60 + float(s)\n",
    "\n",
    "    result = subprocess.Popen([\"ffprobe\", filename],\n",
    "                              stdout=subprocess.PIPE, stderr=subprocess.STDOUT)\n",
    "    time_string = [x for x in result.stdout.readlines() if b\"Duration\" in x][0]\n",
    "    return get_sec(time_string.split(b\",\")[0].split(b\": \")[-1])\n",
    "\n"
   ]
  },
  {
   "cell_type": "code",
   "execution_count": 8,
   "metadata": {
    "scrolled": true
   },
   "outputs": [
    {
     "name": "stdout",
     "output_type": "stream",
     "text": [
      "441.034\n"
     ]
    }
   ],
   "source": [
    "for session_id in HDD_TRAIN_SIDS:\n",
    "    files = os.listdir(HDD_VIDEO_PATH.format(session_id))\n",
    "    filename = HDD_VIDEO_PATH.format(session_id)+\"/\"+files[0]\n",
    "    print(get_length(filename))"
   ]
  },
  {
   "cell_type": "code",
   "execution_count": 13,
   "metadata": {},
   "outputs": [
    {
     "name": "stdout",
     "output_type": "stream",
     "text": [
      "441.034\n"
     ]
    }
   ],
   "source": [
    "def get_length(filename):\n",
    "    result = subprocess.run([\"ffprobe\", \"-v\", \"error\", \"-show_entries\",\n",
    "                             \"format=duration\", \"-of\", \"default=noprint_wrappers=1:nokey=1\", filename],\n",
    "        stdout=subprocess.PIPE,\n",
    "        stderr=subprocess.STDOUT)\n",
    "    return float(result.stdout)\n",
    "for session_id in HDD_TRAIN_SIDS:\n",
    "    files = os.listdir(HDD_VIDEO_PATH.format(session_id))\n",
    "    filename = HDD_VIDEO_PATH.format(session_id)+\"/\"+files[0]\n",
    "    print(get_length(filename))"
   ]
  },
  {
   "cell_type": "code",
   "execution_count": 15,
   "metadata": {},
   "outputs": [],
   "source": [
    "si = get_saved_index_pkl()"
   ]
  },
  {
   "cell_type": "code",
   "execution_count": 38,
   "metadata": {},
   "outputs": [
    {
     "data": {
      "text/plain": [
       "array([0, 1, 2, 3, 4, 5, 6])"
      ]
     },
     "execution_count": 38,
     "metadata": {},
     "output_type": "execute_result"
    }
   ],
   "source": [
    "events_pd = si[\"events_pd\"]\n",
    "events_pd[\"layer\"].unique()"
   ]
  },
  {
   "cell_type": "code",
   "execution_count": 41,
   "metadata": {},
   "outputs": [
    {
     "data": {
      "text/html": [
       "<div>\n",
       "<style scoped>\n",
       "    .dataframe tbody tr th:only-of-type {\n",
       "        vertical-align: middle;\n",
       "    }\n",
       "\n",
       "    .dataframe tbody tr th {\n",
       "        vertical-align: top;\n",
       "    }\n",
       "\n",
       "    .dataframe thead th {\n",
       "        text-align: right;\n",
       "    }\n",
       "</style>\n",
       "<table border=\"1\" class=\"dataframe\">\n",
       "  <thead>\n",
       "    <tr style=\"text-align: right;\">\n",
       "      <th></th>\n",
       "      <th>layer</th>\n",
       "      <th>event_type</th>\n",
       "      <th>session_id</th>\n",
       "      <th>start</th>\n",
       "      <th>end</th>\n",
       "    </tr>\n",
       "  </thead>\n",
       "  <tbody>\n",
       "    <tr>\n",
       "      <th>18732</th>\n",
       "      <td>2</td>\n",
       "      <td>32</td>\n",
       "      <td>201702271123</td>\n",
       "      <td>0</td>\n",
       "      <td>441034</td>\n",
       "    </tr>\n",
       "  </tbody>\n",
       "</table>\n",
       "</div>"
      ],
      "text/plain": [
       "       layer  event_type    session_id  start     end\n",
       "18732      2          32  201702271123      0  441034"
      ]
     },
     "execution_count": 41,
     "metadata": {},
     "output_type": "execute_result"
    }
   ],
   "source": [
    "session_rows = events_pd[(events_pd[\"session_id\"] == \"201702271123\") & (events_pd[\"layer\"] == 2)]\n",
    "session_rows"
   ]
  },
  {
   "cell_type": "code",
   "execution_count": 40,
   "metadata": {},
   "outputs": [
    {
     "name": "stdout",
     "output_type": "stream",
     "text": [
      "1207\n",
      "332.841\n",
      "1208\n",
      "638.991\n",
      "1209\n",
      "1073.961\n",
      "1210\n",
      "1153.347\n",
      "4568\n",
      "167.841\n",
      "4569\n",
      "254.66699999999997\n",
      "4570\n",
      "461.25\n",
      "4571\n",
      "573.207\n",
      "4572\n",
      "713.7239999999999\n",
      "4573\n",
      "805.767\n",
      "4574\n",
      "880.7640000000001\n",
      "4575\n",
      "986.337\n",
      "4576\n",
      "1116.195\n",
      "4577\n",
      "1264.815\n",
      "8953\n",
      "1037.043\n",
      "10839\n",
      "67.71000000000001\n",
      "11857\n",
      "960.261\n",
      "11858\n",
      "1195.3980000000001\n",
      "11859\n",
      "1319.5230000000001\n"
     ]
    }
   ],
   "source": [
    "fps = \"3/1\"\n",
    "for row in session_rows.iterrows():\n",
    "    print(row[0])\n",
    "    print(row[1][\"start\"]/1000 * 3)"
   ]
  },
  {
   "cell_type": "code",
   "execution_count": 1,
   "metadata": {},
   "outputs": [],
   "source": [
    "from src.utils.data_prep_util import get_sequence_wise_fvecs_and_labels\n",
    "from src.utils.exp_util import get_map_of_unique_classes_for_layer\n",
    "from src.utils.consts import HDD_TRAIN_SIDS, HDD_TEST_SIDS\n",
    "import numpy as np"
   ]
  },
  {
   "cell_type": "code",
   "execution_count": 2,
   "metadata": {},
   "outputs": [
    {
     "data": {
      "text/plain": [
       "((120,), (120,))"
      ]
     },
     "execution_count": 2,
     "metadata": {},
     "output_type": "execute_result"
    }
   ],
   "source": [
    "num_unq_cls, map_lbl_to_cls, map_cls_to_lbl = get_map_of_unique_classes_for_layer(\n",
    "        HDD_TRAIN_SIDS, 0)\n",
    "fvecs, labels = get_sequence_wise_fvecs_and_labels(\"201709210940\", 0, 90, map_lbl_to_cls)\n",
    "fvecs.shape, labels.shape"
   ]
  },
  {
   "cell_type": "code",
   "execution_count": 3,
   "metadata": {},
   "outputs": [
    {
     "name": "stdout",
     "output_type": "stream",
     "text": [
      "<class 'numpy.ndarray'>\n"
     ]
    }
   ],
   "source": [
    "print(type(labels[2]))\n",
    "from torch.utils.data import TensorDataset, DataLoader\n",
    "import torch"
   ]
  },
  {
   "cell_type": "code",
   "execution_count": 4,
   "metadata": {},
   "outputs": [
    {
     "name": "stdout",
     "output_type": "stream",
     "text": [
      "tensor([0, 1, 2, 3, 5, 6, 7, 9])\n"
     ]
    }
   ],
   "source": [
    "\n",
    "fvecs_t = torch.stack([torch.from_numpy(fvec) for fvec in fvecs[:-1]])\n",
    "labels_t = torch.stack([torch.from_numpy(label) for label in labels[:-1]])\n",
    "print(torch.unique(labels_t))\n",
    "\n",
    "train_data = TensorDataset(fvecs_t, labels_t)"
   ]
  },
  {
   "cell_type": "code",
   "execution_count": 5,
   "metadata": {},
   "outputs": [],
   "source": [
    "train_loader = DataLoader(dataset=train_data, batch_size=40, shuffle=False)"
   ]
  },
  {
   "cell_type": "code",
   "execution_count": 10,
   "metadata": {},
   "outputs": [
    {
     "name": "stdout",
     "output_type": "stream",
     "text": [
      "torch.Size([40, 90, 512]) torch.Size([40, 90])\n",
      "torch.Size([40, 90, 512]) torch.Size([40, 90])\n",
      "torch.Size([39, 90, 512]) torch.Size([39, 90])\n"
     ]
    }
   ],
   "source": [
    "for x, y in train_loader:\n",
    "    print (x.shape, y.shape)"
   ]
  },
  {
   "cell_type": "code",
   "execution_count": 9,
   "metadata": {},
   "outputs": [
    {
     "name": "stdout",
     "output_type": "stream",
     "text": [
      "12\n",
      "{0.0: 0, 1.0: 1, 2.0: 2, 3.0: 3, 4.0: 4, 5.0: 5, 6.0: 6, 7.0: 7, 8.0: 8, 10.0: 9, 11.0: 10, 12.0: 11}\n",
      "{0: 0.0, 1: 1.0, 2: 2.0, 3: 3.0, 4: 4.0, 5: 5.0, 6: 6.0, 7: 7.0, 8: 8.0, 9: 10.0, 10: 11.0, 11: 12.0}\n"
     ]
    }
   ],
   "source": [
    "print(num_unq_cls)\n",
    "print(map_lbl_to_cls)\n",
    "print(map_cls_to_lbl)"
   ]
  },
  {
   "cell_type": "code",
   "execution_count": 11,
   "metadata": {
    "scrolled": true
   },
   "outputs": [],
   "source": [
    "ts_ul_cnt, ts_ul_map, ts_cl_map = get_map_of_unique_classes_for_layer(HDD_TEST_SIDS, 0)"
   ]
  },
  {
   "cell_type": "code",
   "execution_count": 13,
   "metadata": {
    "scrolled": true
   },
   "outputs": [
    {
     "data": {
      "text/plain": [
       "(12,\n",
       " {0.0: 0,\n",
       "  1.0: 1,\n",
       "  2.0: 2,\n",
       "  3.0: 3,\n",
       "  4.0: 4,\n",
       "  5.0: 5,\n",
       "  6.0: 6,\n",
       "  7.0: 7,\n",
       "  8.0: 8,\n",
       "  10.0: 9,\n",
       "  11.0: 10,\n",
       "  12.0: 11},\n",
       " {0: 0.0,\n",
       "  1: 1.0,\n",
       "  2: 2.0,\n",
       "  3: 3.0,\n",
       "  4: 4.0,\n",
       "  5: 5.0,\n",
       "  6: 6.0,\n",
       "  7: 7.0,\n",
       "  8: 8.0,\n",
       "  9: 10.0,\n",
       "  10: 11.0,\n",
       "  11: 12.0})"
      ]
     },
     "execution_count": 13,
     "metadata": {},
     "output_type": "execute_result"
    }
   ],
   "source": [
    "ts_ul_cnt, ts_ul_map, ts_cl_map"
   ]
  },
  {
   "cell_type": "code",
   "execution_count": 20,
   "metadata": {},
   "outputs": [
    {
     "name": "stdout",
     "output_type": "stream",
     "text": [
      "torch.Size([12, 5]) torch.Size([12])\n"
     ]
    }
   ],
   "source": [
    "import torch\n",
    "output = torch.randn(3, 4, 5)\n",
    "train_clss = torch.randn(3, 4)\n",
    "print(output.view(-1, 5).shape, train_clss.view(-1).shape)"
   ]
  },
  {
   "cell_type": "code",
   "execution_count": 22,
   "metadata": {
    "scrolled": true
   },
   "outputs": [
    {
     "name": "stdout",
     "output_type": "stream",
     "text": [
      "tensor([[[-0.8202, -0.7720,  0.5749,  0.9233, -1.0970],\n",
      "         [-0.4713, -1.2166, -1.8238, -0.7495, -0.3654],\n",
      "         [-1.1689, -0.1251, -1.6567,  0.0965,  1.2511],\n",
      "         [ 2.0249, -0.7272,  0.1559,  1.2814,  0.6847]],\n",
      "\n",
      "        [[ 0.1606, -2.6523,  0.1823,  0.5514, -0.2323],\n",
      "         [ 1.0380, -1.5724,  0.5753,  1.6914, -0.8425],\n",
      "         [ 0.9869,  0.7831, -0.8116, -0.0644, -0.3113],\n",
      "         [ 0.3491, -0.9055, -0.4162, -0.9037, -0.2829]],\n",
      "\n",
      "        [[-0.0191,  0.4710, -0.3959,  2.1329, -0.7635],\n",
      "         [-1.5661,  0.8526,  0.5746, -0.1830,  1.4722],\n",
      "         [-0.8471,  1.1734, -0.9500,  0.9141, -0.1215],\n",
      "         [-0.1937, -1.5870, -0.4267,  1.0605,  0.6665]]])\n",
      "tensor([[-0.8202, -0.7720,  0.5749,  0.9233, -1.0970],\n",
      "        [-0.4713, -1.2166, -1.8238, -0.7495, -0.3654],\n",
      "        [-1.1689, -0.1251, -1.6567,  0.0965,  1.2511],\n",
      "        [ 2.0249, -0.7272,  0.1559,  1.2814,  0.6847],\n",
      "        [ 0.1606, -2.6523,  0.1823,  0.5514, -0.2323],\n",
      "        [ 1.0380, -1.5724,  0.5753,  1.6914, -0.8425],\n",
      "        [ 0.9869,  0.7831, -0.8116, -0.0644, -0.3113],\n",
      "        [ 0.3491, -0.9055, -0.4162, -0.9037, -0.2829],\n",
      "        [-0.0191,  0.4710, -0.3959,  2.1329, -0.7635],\n",
      "        [-1.5661,  0.8526,  0.5746, -0.1830,  1.4722],\n",
      "        [-0.8471,  1.1734, -0.9500,  0.9141, -0.1215],\n",
      "        [-0.1937, -1.5870, -0.4267,  1.0605,  0.6665]])\n"
     ]
    }
   ],
   "source": [
    "print(output)\n",
    "print(output.view(-1, 5))"
   ]
  },
  {
   "cell_type": "code",
   "execution_count": 6,
   "metadata": {},
   "outputs": [
    {
     "name": "stdout",
     "output_type": "stream",
     "text": [
      "Predicted      0      1      2      3      4\n",
      "Actual                                      \n",
      "0          18.68  18.91  21.41  21.87  19.13\n",
      "1          16.07  21.17  19.90  21.94  20.92\n",
      "2          19.54  23.14  18.77  19.28  19.28\n",
      "3          23.78  21.08  20.00  16.76  18.38\n",
      "4          21.46  19.02  18.78  21.22  19.51\n"
     ]
    },
    {
     "data": {
      "image/png": "[encoded data removed]",
      "text/plain": [
       "<Figure size 432x288 with 2 Axes>"
      ]
     },
     "metadata": {
      "needs_background": "light"
     },
     "output_type": "display_data"
    }
   ],
   "source": [
    "y_true = np.random.randint(0, 5, 2000)\n",
    "y_pred = np.random.randint(0, 5, 2000)\n",
    "plot_conf_mat_heat_map(y_true, y_pred)"
   ]
  },
  {
   "cell_type": "code",
   "execution_count": 41,
   "metadata": {
    "scrolled": false
   },
   "outputs": [
    {
     "name": "stdout",
     "output_type": "stream",
     "text": [
      "(3,)\n",
      "<class 'generator'>\n",
      "torch.Size([1, 3600, 512]) torch.Size([1, 3600])\n",
      "torch.Size([1, 3600, 512]) torch.Size([1, 3600])\n",
      "torch.Size([1, 2340, 512]) torch.Size([1, 2340])\n",
      "(3,)\n",
      "<class 'generator'>\n",
      "torch.Size([1, 3600, 512]) torch.Size([1, 3600])\n",
      "torch.Size([1, 3600, 512]) torch.Size([1, 3600])\n",
      "torch.Size([1, 2340, 512]) torch.Size([1, 2340])\n"
     ]
    }
   ],
   "source": [
    "for i in range(2):\n",
    "    fvecs, fclss = get_sequence_wise_fvecs_and_labels(\"201702271017\", 0, 3600, MAP_LBL_TO_CLS_LYR_0)\n",
    "    print(fvecs.shape)\n",
    "    def custom_dl():\n",
    "        for fvec, fcls in zip(fvecs, fclss):\n",
    "            fvec, fcls = torch.from_numpy(fvec).unsqueeze(0), torch.from_numpy(fcls).unsqueeze(0)\n",
    "            #print(fvec.size(), fcls.size())\n",
    "            yield fvec, fcls\n",
    "            \n",
    "    dl = custom_dl()\n",
    "    print(type(dl))\n",
    "    for fvec, fcls in dl:\n",
    "        print(fvec.shape, fcls.shape)"
   ]
  },
  {
   "cell_type": "code",
   "execution_count": 17,
   "metadata": {},
   "outputs": [
    {
     "data": {
      "text/plain": [
       "torch.Size([2, 3600, 512])"
      ]
     },
     "execution_count": 17,
     "metadata": {},
     "output_type": "execute_result"
    }
   ],
   "source": [
    "fvecs = torch.stack([torch.from_numpy(fvec) for fvec in fvecs[:-1]])\n",
    "fvecs.size()"
   ]
  },
  {
   "cell_type": "code",
   "execution_count": null,
   "metadata": {},
   "outputs": [],
   "source": []
  }
 ],
 "metadata": {
  "kernelspec": {
   "display_name": "Python 3",
   "language": "python",
   "name": "python3"
  },
  "language_info": {
   "codemirror_mode": {
    "name": "ipython",
    "version": 3
   },
   "file_extension": ".py",
   "mimetype": "text/x-python",
   "name": "python",
   "nbconvert_exporter": "python",
   "pygments_lexer": "ipython3",
   "version": "3.7.0"
  }
 },
 "nbformat": 4,
 "nbformat_minor": 2
}
